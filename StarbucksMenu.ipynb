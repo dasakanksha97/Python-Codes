{
  "nbformat": 4,
  "nbformat_minor": 0,
  "metadata": {
    "colab": {
      "name": "StarbucksMenu.ipynb",
      "provenance": []
    },
    "kernelspec": {
      "name": "python3",
      "display_name": "Python 3"
    },
    "language_info": {
      "name": "python"
    }
  },
  "cells": [
    {
      "cell_type": "code",
      "execution_count": 1,
      "metadata": {
        "colab": {
          "base_uri": "https://localhost:8080/"
        },
        "id": "QnnbKZTIruve",
        "outputId": "9c70bd6e-68b1-493e-9cfc-1c8d8d762b4a"
      },
      "outputs": [
        {
          "output_type": "stream",
          "name": "stdout",
          "text": [
            "0 \t Iced Latte \n",
            "\n",
            "1 \t Blonde Roast \n",
            "\n",
            "2 \t Matcha Latte \n",
            "\n",
            "3 \t Cold Brew \n",
            "\n",
            "4 \t Caramel Machiato \n",
            "\n",
            "5 \t Pumpkin Spice Latte \n",
            "\n",
            "6 \t Peppermint Mocha \n",
            "\n",
            "7 \t Iced Green Lemonade \n",
            "\n",
            "8 \t Mango Dragonfruit Refresher \n",
            "\n",
            "9 \t Iced Dirty Chai Latte \n",
            "\n",
            "What would you like to order?(0-9)\n",
            "8\n",
            "['Mango Dragonfruit Refresher']\n",
            "Type done to stop ordering\tl\n",
            "What would you like to order?(0-9)\n",
            "9\n",
            "['Mango Dragonfruit Refresher', 'Iced Dirty Chai Latte']\n",
            "Type done to stop ordering\t5\n",
            "What would you like to order?(0-9)\n",
            "5\n",
            "['Mango Dragonfruit Refresher', 'Iced Dirty Chai Latte', 'Pumpkin Spice Latte']\n",
            "Type done to stop ordering\tdone\n",
            "\n",
            "Thank you for your order! Here is your order:\n",
            "\n",
            "\n",
            " Mango Dragonfruit Refresher\n",
            "\n",
            " Iced Dirty Chai Latte\n",
            "\n",
            " Pumpkin Spice Latte\n"
          ]
        }
      ],
      "source": [
        "\n",
        "menu = [\"Iced Latte\", \"Blonde Roast\", \"Matcha Latte\", \"Cold Brew\", \"Caramel Machiato\", \"Pumpkin Spice Latte\", \"Peppermint Mocha\", \"Iced Green Lemonade\", \"Mango Dragonfruit Refresher\", \"Iced Dirty Chai Latte\"]\n",
        "current_order = []\n",
        "for ind,val in enumerate(menu):\n",
        "  print(ind, \"\\t\" ,val, \"\\n\")\n",
        "\n",
        "while True:\n",
        "    order = int(input(\"What would you like to order?(0-9)\\n\"))\n",
        "# order_number = input(order)\n",
        "\n",
        "    for ind,val in enumerate(menu):\n",
        "        if order==ind:\n",
        "          current_order.append(val)\n",
        "        else:\n",
        "          continue\n",
        "    print(current_order)\n",
        "    check_continue = input(\"Type done to stop ordering\\t\")\n",
        "    if check_continue.lower()== \"done\":\n",
        "      break\n",
        "\n",
        "print(\"\\nThank you for your order! Here is your order:\\n\")\n",
        "for element in current_order:\n",
        "  print(\"\\n\",element)\n",
        "# print(current_order)\n",
        "    \n",
        "      \n",
        "  "
      ]
    }
  ]
}