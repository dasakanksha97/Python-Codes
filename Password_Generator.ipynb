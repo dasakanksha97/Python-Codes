{
  "nbformat": 4,
  "nbformat_minor": 0,
  "metadata": {
    "colab": {
      "name": "Password_Generator.ipynb",
      "provenance": []
    },
    "kernelspec": {
      "name": "python3",
      "display_name": "Python 3"
    },
    "language_info": {
      "name": "python"
    }
  },
  "cells": [
    {
      "cell_type": "code",
      "execution_count": 1,
      "metadata": {
        "colab": {
          "base_uri": "https://localhost:8080/"
        },
        "id": "NOSwmRByv69d",
        "outputId": "8f392dd0-51dd-4dc3-a246-be838d4562f9"
      },
      "outputs": [
        {
          "output_type": "stream",
          "name": "stdout",
          "text": [
            "num char: 4\n",
            "num dig: 5\n",
            "IHqy10408\n"
          ]
        }
      ],
      "source": [
        "import random\n",
        "import string\n",
        "\n",
        "num_char = int(input(\"num char: \"))\n",
        "num_dig = int(input(\"num dig: \"))\n",
        "password = \"\"\n",
        "char = \"\"\n",
        "num = 0\n",
        "for i in range(0,num_char):\n",
        "  char = random.choice(string.ascii_letters)\n",
        "  password = password + char\n",
        "  \n",
        "\n",
        "for i in range(0,num_dig):\n",
        "  num = random.randint(0,9)\n",
        "  password = password + str(num)\n",
        "\n",
        "print(password)"
      ]
    }
  ]
}