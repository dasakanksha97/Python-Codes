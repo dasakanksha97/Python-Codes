{
  "nbformat": 4,
  "nbformat_minor": 0,
  "metadata": {
    "colab": {
      "name": "Spotify_Playlist.ipynb",
      "provenance": []
    },
    "kernelspec": {
      "name": "python3",
      "display_name": "Python 3"
    },
    "language_info": {
      "name": "python"
    }
  },
  "cells": [
    {
      "cell_type": "code",
      "execution_count": 1,
      "metadata": {
        "colab": {
          "base_uri": "https://localhost:8080/"
        },
        "id": "jxiK3TMAtnJa",
        "outputId": "10072086-602e-4507-9441-9d522657688a"
      },
      "outputs": [
        {
          "output_type": "stream",
          "name": "stdout",
          "text": [
            "Enter a Song Name: yellow\n",
            "Type quit to exit g\n",
            "['yellow']\n",
            "Enter a Song Name: fix you\n",
            "Type quit to exit k\n",
            "['yellow', 'fix you']\n",
            "Enter a Song Name: everglow\n",
            "Type quit to exit o\n",
            "['yellow', 'fix you', 'everglow']\n",
            "Enter a Song Name: my universe\n",
            "Type quit to exit l\n",
            "['yellow', 'fix you', 'everglow', 'my universe']\n",
            "Enter a Song Name: viva la vids\n",
            "Type quit to exit j\n",
            "['yellow', 'fix you', 'everglow', 'my universe', 'viva la vids']\n",
            "Enter a Song Name: fix you\n",
            "Requested Song is already at position 1\n",
            "Type quit to exit quit\n",
            "Enjoy your playlist!\n",
            "['yellow', 'fix you', 'everglow', 'my universe', 'viva la vids', 'fix you']\n"
          ]
        }
      ],
      "source": [
        "keepAsking = True\n",
        "name_array = list()\n",
        "\n",
        "while(keepAsking):\n",
        "    #Get nane and input\n",
        "    stdName = input(\"Enter a Song Name: \")\n",
        "\n",
        "    n = len(name_array)\n",
        "    for i in range(0,n):\n",
        "        if stdName == name_array[i]:\n",
        "            print(f\"Requested Song is already at position {i}\")\n",
        "            continue # this keyword skips the rest and goes to the next iteration of the loop\n",
        "    \n",
        "    #Update name and age array\n",
        "    name_array.append(stdName)\n",
        "      \n",
        "    #Get input from user\n",
        "    doContinue = input(\"Type quit to exit \")\n",
        "  \n",
        "      #Based on user input, keep asking or stop\n",
        "    if (doContinue.lower() != \"quit\") :\n",
        "          keepAsking = True\n",
        "  \n",
        "    elif (doContinue.lower() == \"quit\") :\n",
        "          keepAsking = False\n",
        "          print(\"Enjoy your playlist!\")\n",
        "  \n",
        "    print(name_array)\n",
        "\n",
        "  "
      ]
    }
  ]
}