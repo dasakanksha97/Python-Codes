{
  "nbformat": 4,
  "nbformat_minor": 0,
  "metadata": {
    "colab": {
      "name": "StringNumericSubstring.ipynb",
      "provenance": [],
      "collapsed_sections": []
    },
    "kernelspec": {
      "name": "python3",
      "display_name": "Python 3"
    },
    "language_info": {
      "name": "python"
    }
  },
  "cells": [
    {
      "cell_type": "code",
      "execution_count": 1,
      "metadata": {
        "colab": {
          "base_uri": "https://localhost:8080/"
        },
        "id": "-MkVykZzYEiW",
        "outputId": "9853a696-ec3b-44de-bafb-75f435c48c3d"
      },
      "outputs": [
        {
          "output_type": "stream",
          "name": "stdout",
          "text": [
            "Enter a string with digits: lopi85p\n",
            "13\n",
            "6.5\n",
            "Substring:  8\n"
          ]
        }
      ],
      "source": [
        "string1 = input(\"Enter a string with digits: \")\n",
        "sum1 =0\n",
        "lst1=[]\n",
        "for x in string1 :\n",
        "  if(x.isdigit()==True):\n",
        "      k=int(x)\n",
        "      lst1.append(k)\n",
        "      sum1 += k\n",
        "\n",
        "avg=sum1/len(lst1)\n",
        "\n",
        "\n",
        "print(sum1)\n",
        "print(avg)\n",
        "\n",
        "def longestNumericSubstr(string: str):\n",
        "    '''1234asdawdwa12awdwa12345678w'''\n",
        "    max_length = 0\n",
        "    temp = []\n",
        "    for c in string:\n",
        "        if c.isdigit():\n",
        "            temp.append(c)\n",
        "        else:\n",
        "            max_length = max(max_length, len(temp))\n",
        "            temp = []\n",
        "\n",
        "    max_length = max(max_length, len(temp))\n",
        "    return max_length\n",
        "\n",
        "\n",
        "string = '1234asdawdwa12awdwa12345678'\n",
        "print(\"Substring: \",longestNumericSubstr(string))"
      ]
    }
  ]
}